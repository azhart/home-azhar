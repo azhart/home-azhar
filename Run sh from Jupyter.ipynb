!sh ./ro_shared_data/reset.sh

import os
